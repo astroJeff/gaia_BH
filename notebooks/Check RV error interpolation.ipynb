{
 "cells": [
  {
   "cell_type": "code",
   "execution_count": 11,
   "metadata": {
    "collapsed": false
   },
   "outputs": [],
   "source": [
    "import numpy as np\n",
    "import matplotlib.pyplot as plt\n",
    "from scipy.interpolate import interp1d\n",
    "from pygaia.photometry import transformations\n",
    "from pygaia.errors import spectroscopic\n",
    "\n",
    "import sys\n",
    "sys.path.append(\"../code\")\n",
    "import run_set_pygaia"
   ]
  },
  {
   "cell_type": "code",
   "execution_count": 12,
   "metadata": {
    "collapsed": true
   },
   "outputs": [],
   "source": [
    "def get_M2_RV_err(mass, G, V_IC):\n",
    "\n",
    "    # First, get a V magnitude\n",
    "    G_VC = transformations.gminvFromVmini(V_IC)\n",
    "    V = G - G_VC\n",
    "\n",
    "    # Adjust for masses below pyGaia limit\n",
    "    if mass < 0.67: return spectroscopic.vradErrorSkyAvg(V, 'K4V')\n",
    "    if mass > 17.5: return spectroscopic.vradErrorSkyAvg(V, 'B0V')\n",
    "\n",
    "    # Stellar masses from Carol & Ostlie\n",
    "    # To Do: Check these numbers\n",
    "    mass_grid = np.array([17.5, 5.9, 2.9, 2.0, 1.6, 1.05, 1.0, 0.79, 0.67])\n",
    "    str_grid = np.array(['B0V','B5V','A0V','A5V','F0V','G0V','G5V','K0V','K4V'])\n",
    "    rv_err_grid = np.array([])\n",
    "    for i, m in enumerate(mass_grid):\n",
    "        rv_err_tmp = spectroscopic.vradErrorSkyAvg(V, str_grid[i])\n",
    "        rv_err_grid = np.append(rv_err_grid, rv_err_tmp)\n",
    "\n",
    "    rv_err_interp = interp1d(mass_grid, rv_err_grid)\n",
    "\n",
    "    return rv_err_interp(mass)"
   ]
  },
  {
   "cell_type": "code",
   "execution_count": 13,
   "metadata": {
    "collapsed": false
   },
   "outputs": [
    {
     "data": {
      "image/png": "[encoded data removed]",
      "text/plain": [
       "<matplotlib.figure.Figure at 0x10f9a6048>"
      ]
     },
     "metadata": {},
     "output_type": "display_data"
    }
   ],
   "source": [
    "masses = np.linspace(0.1, 5.0, 100)\n",
    "\n",
    "G = 13.0\n",
    "V_IC = 0.0\n",
    "\n",
    "\n",
    "for V_IC in [-1.0, 0.0, 0.5, 1.0]:\n",
    "    RV_err = np.array([])\n",
    "\n",
    "    for m in masses:  \n",
    "        RV_err = np.append(RV_err, get_M2_RV_err(m, G, V_IC))\n",
    "\n",
    "    plt.plot(masses, RV_err, label=str(V_IC))\n",
    "\n",
    "\n",
    "\n",
    "plt.legend(loc=2)\n",
    "\n",
    "plt.show()"
   ]
  },
  {
   "cell_type": "code",
   "execution_count": null,
   "metadata": {
    "collapsed": true
   },
   "outputs": [],
   "source": []
  }
 ],
 "metadata": {
  "anaconda-cloud": {},
  "kernelspec": {
   "display_name": "Python [conda root]",
   "language": "python",
   "name": "conda-root-py"
  },
  "language_info": {
   "codemirror_mode": {
    "name": "ipython",
    "version": 3
   },
   "file_extension": ".py",
   "mimetype": "text/x-python",
   "name": "python",
   "nbconvert_exporter": "python",
   "pygments_lexer": "ipython3",
   "version": "3.5.2"
  }
 },
 "nbformat": 4,
 "nbformat_minor": 1
}
